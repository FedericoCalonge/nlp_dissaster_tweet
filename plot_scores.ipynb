{
 "cells": [
  {
   "cell_type": "code",
   "execution_count": 1,
   "metadata": {},
   "outputs": [],
   "source": [
    "import pandas as pd\n",
    "import numpy as np\n",
    "import seaborn as sns\n",
    "import matplotlib.pyplot as plt\n",
    "%matplotlib inline"
   ]
  },
  {
   "cell_type": "code",
   "execution_count": 11,
   "metadata": {},
   "outputs": [
    {
     "data": {
      "text/html": [
       "<div>\n",
       "<style scoped>\n",
       "    .dataframe tbody tr th:only-of-type {\n",
       "        vertical-align: middle;\n",
       "    }\n",
       "\n",
       "    .dataframe tbody tr th {\n",
       "        vertical-align: top;\n",
       "    }\n",
       "\n",
       "    .dataframe thead th {\n",
       "        text-align: right;\n",
       "    }\n",
       "</style>\n",
       "<table border=\"1\" class=\"dataframe\">\n",
       "  <thead>\n",
       "    <tr style=\"text-align: right;\">\n",
       "      <th></th>\n",
       "      <th>description</th>\n",
       "      <th>score</th>\n",
       "    </tr>\n",
       "  </thead>\n",
       "  <tbody>\n",
       "    <tr>\n",
       "      <th>0</th>\n",
       "      <td>CV + TFIDF + MNB</td>\n",
       "      <td>0.78669</td>\n",
       "    </tr>\n",
       "    <tr>\n",
       "      <th>1</th>\n",
       "      <td>CV + TFIDF + MNB + GS</td>\n",
       "      <td>0.79558</td>\n",
       "    </tr>\n",
       "    <tr>\n",
       "      <th>2</th>\n",
       "      <td>CV + TFIDF + SGDClassifier + GS</td>\n",
       "      <td>0.79190</td>\n",
       "    </tr>\n",
       "    <tr>\n",
       "      <th>3</th>\n",
       "      <td>CV + TFIDF + SVC + GS</td>\n",
       "      <td>0.78639</td>\n",
       "    </tr>\n",
       "    <tr>\n",
       "      <th>4</th>\n",
       "      <td>CV + TFIDF + MNB + Stemming + GS</td>\n",
       "      <td>0.78976</td>\n",
       "    </tr>\n",
       "    <tr>\n",
       "      <th>5</th>\n",
       "      <td>CV + TFIDF + XGBoost + GS</td>\n",
       "      <td>0.76984</td>\n",
       "    </tr>\n",
       "    <tr>\n",
       "      <th>6</th>\n",
       "      <td>CV + TFIDF + LogisticRegression + GS</td>\n",
       "      <td>0.78608</td>\n",
       "    </tr>\n",
       "    <tr>\n",
       "      <th>7</th>\n",
       "      <td>CV + TFIDF + DT + GS</td>\n",
       "      <td>0.69598</td>\n",
       "    </tr>\n",
       "    <tr>\n",
       "      <th>8</th>\n",
       "      <td>CV + TFIDF + KNN + GS</td>\n",
       "      <td>0.77382</td>\n",
       "    </tr>\n",
       "    <tr>\n",
       "      <th>9</th>\n",
       "      <td>Glove (100dim) + Only CNN</td>\n",
       "      <td>0.57033</td>\n",
       "    </tr>\n",
       "    <tr>\n",
       "      <th>10</th>\n",
       "      <td>Glove (100dim) + CNN + LSTM</td>\n",
       "      <td>0.79650</td>\n",
       "    </tr>\n",
       "    <tr>\n",
       "      <th>11</th>\n",
       "      <td>Glove (100dim) + LSTM</td>\n",
       "      <td>0.80570</td>\n",
       "    </tr>\n",
       "    <tr>\n",
       "      <th>12</th>\n",
       "      <td>Glove (50dim) + BLSTM</td>\n",
       "      <td>0.80478</td>\n",
       "    </tr>\n",
       "    <tr>\n",
       "      <th>13</th>\n",
       "      <td>Glove (100dim) + BLSTM</td>\n",
       "      <td>0.81673</td>\n",
       "    </tr>\n",
       "    <tr>\n",
       "      <th>14</th>\n",
       "      <td>Glove (100dim) + BLSTM + Keywords Included</td>\n",
       "      <td>0.80968</td>\n",
       "    </tr>\n",
       "    <tr>\n",
       "      <th>15</th>\n",
       "      <td>BERT (without cleaning text)</td>\n",
       "      <td>0.83389</td>\n",
       "    </tr>\n",
       "    <tr>\n",
       "      <th>16</th>\n",
       "      <td>BERT + Cleaning + cut length</td>\n",
       "      <td>0.83726</td>\n",
       "    </tr>\n",
       "    <tr>\n",
       "      <th>17</th>\n",
       "      <td>BERT + Cleaning + Keywords included</td>\n",
       "      <td>0.82807</td>\n",
       "    </tr>\n",
       "  </tbody>\n",
       "</table>\n",
       "</div>"
      ],
      "text/plain": [
       "                                   description    score\n",
       "0                             CV + TFIDF + MNB  0.78669\n",
       "1                        CV + TFIDF + MNB + GS  0.79558\n",
       "2              CV + TFIDF + SGDClassifier + GS  0.79190\n",
       "3                        CV + TFIDF + SVC + GS  0.78639\n",
       "4             CV + TFIDF + MNB + Stemming + GS  0.78976\n",
       "5                    CV + TFIDF + XGBoost + GS  0.76984\n",
       "6         CV + TFIDF + LogisticRegression + GS  0.78608\n",
       "7                         CV + TFIDF + DT + GS  0.69598\n",
       "8                        CV + TFIDF + KNN + GS  0.77382\n",
       "9                    Glove (100dim) + Only CNN  0.57033\n",
       "10                 Glove (100dim) + CNN + LSTM  0.79650\n",
       "11                       Glove (100dim) + LSTM  0.80570\n",
       "12                       Glove (50dim) + BLSTM  0.80478\n",
       "13                      Glove (100dim) + BLSTM  0.81673\n",
       "14  Glove (100dim) + BLSTM + Keywords Included  0.80968\n",
       "15                BERT (without cleaning text)  0.83389\n",
       "16                BERT + Cleaning + cut length  0.83726\n",
       "17         BERT + Cleaning + Keywords included  0.82807"
      ]
     },
     "execution_count": 11,
     "metadata": {},
     "output_type": "execute_result"
    }
   ],
   "source": [
    "df_Scores = pd.read_csv('scores.csv')\n",
    "df_Scores"
   ]
  },
  {
   "cell_type": "markdown",
   "metadata": {},
   "source": [
    "### Abreviaciones:\n",
    "- CV = Count Vectorizer\n",
    "- TF-IDF = Term frequency – Inverse document frequency\n",
    "- MNB = Multinomial Naive bayes\n",
    "- GS = Grid Search\n",
    "- SGDClassifier = Stochastic Gradient Descent Classifier\n",
    "- DT = Decision Tree\n",
    "- XGBoost = Extra Gradient boosting\n",
    "- SVC = Support Vector Classifier\n",
    "- KNN = K Nearest Neighbors\n",
    "- CNN = Convolutional Neural Network\n",
    "- LSTM = Long Short-Term Memory\n",
    "- BLSTM = Bidirectional Long Short-Term Memory\n",
    "- BERT = Bidirectional Encoder Representations from Transformers"
   ]
  },
  {
   "cell_type": "markdown",
   "metadata": {},
   "source": [
    "## Notas:\n",
    "- Keywords included es una tecnica que incluye el keywords adentro del tweet.\n",
    "- Cut Length es una técnica que corta los tweets que son más largos."
   ]
  },
  {
   "cell_type": "code",
   "execution_count": 18,
   "metadata": {},
   "outputs": [
    {
     "data": {
      "text/plain": [
       "Text(0, 0.5, 'Descripción del modelo probado')"
      ]
     },
     "execution_count": 18,
     "metadata": {},
     "output_type": "execute_result"
    },
    {
     "data": {
      "image/png": "[encoded data removed]",
      "text/plain": [
       "<Figure size 432x288 with 1 Axes>"
      ]
     },
     "metadata": {
      "needs_background": "light"
     },
     "output_type": "display_data"
    }
   ],
   "source": [
    "# https://seaborn.pydata.org/generated/seaborn.barplot.html\n",
    "g = sns.barplot(x=df_Scores['score'], y=df_Scores['description'], orient='h')\n",
    "g.set_title(\"Modelo por orden de pruebas\", fontsize=18)\n",
    "g.set_xlabel(\"Score\", fontsize=12)\n",
    "g.set_ylabel(\"Descripción del modelo probado\", fontsize=12)"
   ]
  },
  {
   "cell_type": "code",
   "execution_count": 14,
   "metadata": {},
   "outputs": [
    {
     "data": {
      "text/html": [
       "<div>\n",
       "<style scoped>\n",
       "    .dataframe tbody tr th:only-of-type {\n",
       "        vertical-align: middle;\n",
       "    }\n",
       "\n",
       "    .dataframe tbody tr th {\n",
       "        vertical-align: top;\n",
       "    }\n",
       "\n",
       "    .dataframe thead th {\n",
       "        text-align: right;\n",
       "    }\n",
       "</style>\n",
       "<table border=\"1\" class=\"dataframe\">\n",
       "  <thead>\n",
       "    <tr style=\"text-align: right;\">\n",
       "      <th></th>\n",
       "      <th>description</th>\n",
       "      <th>score</th>\n",
       "    </tr>\n",
       "  </thead>\n",
       "  <tbody>\n",
       "    <tr>\n",
       "      <th>16</th>\n",
       "      <td>BERT + Cleaning + cut length</td>\n",
       "      <td>0.83726</td>\n",
       "    </tr>\n",
       "    <tr>\n",
       "      <th>15</th>\n",
       "      <td>BERT (without cleaning text)</td>\n",
       "      <td>0.83389</td>\n",
       "    </tr>\n",
       "    <tr>\n",
       "      <th>17</th>\n",
       "      <td>BERT + Cleaning + Keywords included</td>\n",
       "      <td>0.82807</td>\n",
       "    </tr>\n",
       "    <tr>\n",
       "      <th>13</th>\n",
       "      <td>Glove (100dim) + BLSTM</td>\n",
       "      <td>0.81673</td>\n",
       "    </tr>\n",
       "    <tr>\n",
       "      <th>14</th>\n",
       "      <td>Glove (100dim) + BLSTM + Keywords Included</td>\n",
       "      <td>0.80968</td>\n",
       "    </tr>\n",
       "    <tr>\n",
       "      <th>11</th>\n",
       "      <td>Glove (100dim) + LSTM</td>\n",
       "      <td>0.80570</td>\n",
       "    </tr>\n",
       "    <tr>\n",
       "      <th>12</th>\n",
       "      <td>Glove (50dim) + BLSTM</td>\n",
       "      <td>0.80478</td>\n",
       "    </tr>\n",
       "    <tr>\n",
       "      <th>10</th>\n",
       "      <td>Glove (100dim) + CNN + LSTM</td>\n",
       "      <td>0.79650</td>\n",
       "    </tr>\n",
       "    <tr>\n",
       "      <th>1</th>\n",
       "      <td>CV + TFIDF + MNB + GS</td>\n",
       "      <td>0.79558</td>\n",
       "    </tr>\n",
       "    <tr>\n",
       "      <th>2</th>\n",
       "      <td>CV + TFIDF + SGDClassifier + GS</td>\n",
       "      <td>0.79190</td>\n",
       "    </tr>\n",
       "    <tr>\n",
       "      <th>4</th>\n",
       "      <td>CV + TFIDF + MNB + Stemming + GS</td>\n",
       "      <td>0.78976</td>\n",
       "    </tr>\n",
       "    <tr>\n",
       "      <th>0</th>\n",
       "      <td>CV + TFIDF + MNB</td>\n",
       "      <td>0.78669</td>\n",
       "    </tr>\n",
       "    <tr>\n",
       "      <th>3</th>\n",
       "      <td>CV + TFIDF + SVC + GS</td>\n",
       "      <td>0.78639</td>\n",
       "    </tr>\n",
       "    <tr>\n",
       "      <th>6</th>\n",
       "      <td>CV + TFIDF + LogisticRegression + GS</td>\n",
       "      <td>0.78608</td>\n",
       "    </tr>\n",
       "    <tr>\n",
       "      <th>8</th>\n",
       "      <td>CV + TFIDF + KNN + GS</td>\n",
       "      <td>0.77382</td>\n",
       "    </tr>\n",
       "    <tr>\n",
       "      <th>5</th>\n",
       "      <td>CV + TFIDF + XGBoost + GS</td>\n",
       "      <td>0.76984</td>\n",
       "    </tr>\n",
       "    <tr>\n",
       "      <th>7</th>\n",
       "      <td>CV + TFIDF + DT + GS</td>\n",
       "      <td>0.69598</td>\n",
       "    </tr>\n",
       "    <tr>\n",
       "      <th>9</th>\n",
       "      <td>Glove (100dim) + Only CNN</td>\n",
       "      <td>0.57033</td>\n",
       "    </tr>\n",
       "  </tbody>\n",
       "</table>\n",
       "</div>"
      ],
      "text/plain": [
       "                                   description    score\n",
       "16                BERT + Cleaning + cut length  0.83726\n",
       "15                BERT (without cleaning text)  0.83389\n",
       "17         BERT + Cleaning + Keywords included  0.82807\n",
       "13                      Glove (100dim) + BLSTM  0.81673\n",
       "14  Glove (100dim) + BLSTM + Keywords Included  0.80968\n",
       "11                       Glove (100dim) + LSTM  0.80570\n",
       "12                       Glove (50dim) + BLSTM  0.80478\n",
       "10                 Glove (100dim) + CNN + LSTM  0.79650\n",
       "1                        CV + TFIDF + MNB + GS  0.79558\n",
       "2              CV + TFIDF + SGDClassifier + GS  0.79190\n",
       "4             CV + TFIDF + MNB + Stemming + GS  0.78976\n",
       "0                             CV + TFIDF + MNB  0.78669\n",
       "3                        CV + TFIDF + SVC + GS  0.78639\n",
       "6         CV + TFIDF + LogisticRegression + GS  0.78608\n",
       "8                        CV + TFIDF + KNN + GS  0.77382\n",
       "5                    CV + TFIDF + XGBoost + GS  0.76984\n",
       "7                         CV + TFIDF + DT + GS  0.69598\n",
       "9                    Glove (100dim) + Only CNN  0.57033"
      ]
     },
     "execution_count": 14,
     "metadata": {},
     "output_type": "execute_result"
    }
   ],
   "source": [
    "by_score = df_Scores.sort_values('score',ascending=False)\n",
    "by_score"
   ]
  },
  {
   "cell_type": "code",
   "execution_count": 19,
   "metadata": {},
   "outputs": [
    {
     "data": {
      "text/plain": [
       "Text(0, 0.5, 'Descripción del modelo probado')"
      ]
     },
     "execution_count": 19,
     "metadata": {},
     "output_type": "execute_result"
    },
    {
     "data": {
      "image/png": "[encoded data removed]",
      "text/plain": [
       "<Figure size 432x288 with 1 Axes>"
      ]
     },
     "metadata": {
      "needs_background": "light"
     },
     "output_type": "display_data"
    }
   ],
   "source": [
    "# https://seaborn.pydata.org/generated/seaborn.barplot.html\n",
    "g = sns.barplot(x=by_score['score'], y=by_score['description'], orient='h')\n",
    "g.set_title(\"Modelos de mayor a menor según su puntaje\", fontsize=15)\n",
    "g.set_xlabel(\"Score\", fontsize=12)\n",
    "g.set_ylabel(\"Descripción del modelo probado\", fontsize=12)"
   ]
  }
 ],
 "metadata": {
  "kernelspec": {
   "display_name": "Python 3",
   "language": "python",
   "name": "python3"
  },
  "language_info": {
   "codemirror_mode": {
    "name": "ipython",
    "version": 3
   },
   "file_extension": ".py",
   "mimetype": "text/x-python",
   "name": "python",
   "nbconvert_exporter": "python",
   "pygments_lexer": "ipython3",
   "version": "3.8.5"
  }
 },
 "nbformat": 4,
 "nbformat_minor": 4
}
