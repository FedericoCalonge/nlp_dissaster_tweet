{
 "cells": [
  {
   "cell_type": "code",
   "execution_count": 1,
   "metadata": {},
   "outputs": [],
   "source": [
    "import pandas as pd\n",
    "import numpy as np\n",
    "import re\n",
    "import string\n",
    "import matplotlib.pyplot as plt\n",
    "import seaborn as sns"
   ]
  },
  {
   "cell_type": "code",
   "execution_count": 12,
   "metadata": {},
   "outputs": [],
   "source": [
    "from tensorflow.keras.models import Sequential, Model \n",
    "from tensorflow.keras.layers import Dense, Embedding, LSTM, Input, SpatialDropout1D, Dropout\n",
    "from sklearn.model_selection import train_test_split\n",
    "from tensorflow.keras.optimizers import Adam, RMSprop, Adadelta\n",
    "from keras.preprocessing.text import Tokenizer, text_to_word_sequence\n",
    "from tensorflow.keras.callbacks import ReduceLROnPlateau, ModelCheckpoint\n",
    "from tensorflow.keras.preprocessing.sequence import pad_sequences \n",
    "from keras.initializers import Constant\n",
    "from nltk.tokenize import word_tokenize"
   ]
  },
  {
   "cell_type": "code",
   "execution_count": 3,
   "metadata": {},
   "outputs": [],
   "source": [
    "#Cargamos dataset train en un dataframe\n",
    "tweets_train = pd.read_csv('Dataset/train.csv')\n",
    "tweets_test = pd.read_csv('Dataset/test.csv')\n",
    "tweets_submission = pd.read_csv('Dataset/sample_submission.csv') "
   ]
  },
  {
   "cell_type": "code",
   "execution_count": 34,
   "metadata": {},
   "outputs": [
    {
     "data": {
      "text/html": [
       "<div>\n",
       "<style scoped>\n",
       "    .dataframe tbody tr th:only-of-type {\n",
       "        vertical-align: middle;\n",
       "    }\n",
       "\n",
       "    .dataframe tbody tr th {\n",
       "        vertical-align: top;\n",
       "    }\n",
       "\n",
       "    .dataframe thead th {\n",
       "        text-align: right;\n",
       "    }\n",
       "</style>\n",
       "<table border=\"1\" class=\"dataframe\">\n",
       "  <thead>\n",
       "    <tr style=\"text-align: right;\">\n",
       "      <th></th>\n",
       "      <th>id</th>\n",
       "      <th>keyword</th>\n",
       "      <th>location</th>\n",
       "      <th>text</th>\n",
       "      <th>target</th>\n",
       "      <th>cleaned_text</th>\n",
       "    </tr>\n",
       "  </thead>\n",
       "  <tbody>\n",
       "    <tr>\n",
       "      <th>0</th>\n",
       "      <td>1</td>\n",
       "      <td>NaN</td>\n",
       "      <td>NaN</td>\n",
       "      <td>Our Deeds are the Reason of this #earthquake M...</td>\n",
       "      <td>1</td>\n",
       "      <td>our deeds are the reason of this earthquake ma...</td>\n",
       "    </tr>\n",
       "    <tr>\n",
       "      <th>1</th>\n",
       "      <td>4</td>\n",
       "      <td>NaN</td>\n",
       "      <td>NaN</td>\n",
       "      <td>Forest fire near La Ronge Sask. Canada</td>\n",
       "      <td>1</td>\n",
       "      <td>forest fire near la ronge sask canada</td>\n",
       "    </tr>\n",
       "    <tr>\n",
       "      <th>2</th>\n",
       "      <td>5</td>\n",
       "      <td>NaN</td>\n",
       "      <td>NaN</td>\n",
       "      <td>All residents asked to 'shelter in place' are ...</td>\n",
       "      <td>1</td>\n",
       "      <td>all residents asked to shelter in place are be...</td>\n",
       "    </tr>\n",
       "    <tr>\n",
       "      <th>3</th>\n",
       "      <td>6</td>\n",
       "      <td>NaN</td>\n",
       "      <td>NaN</td>\n",
       "      <td>13,000 people receive #wildfires evacuation or...</td>\n",
       "      <td>1</td>\n",
       "      <td>people receive wildfires evacuation orders in...</td>\n",
       "    </tr>\n",
       "    <tr>\n",
       "      <th>4</th>\n",
       "      <td>7</td>\n",
       "      <td>NaN</td>\n",
       "      <td>NaN</td>\n",
       "      <td>Just got sent this photo from Ruby #Alaska as ...</td>\n",
       "      <td>1</td>\n",
       "      <td>just got sent this photo from ruby alaska as s...</td>\n",
       "    </tr>\n",
       "    <tr>\n",
       "      <th>5</th>\n",
       "      <td>8</td>\n",
       "      <td>NaN</td>\n",
       "      <td>NaN</td>\n",
       "      <td>#RockyFire Update =&gt; California Hwy. 20 closed...</td>\n",
       "      <td>1</td>\n",
       "      <td>rockyfire update  california hwy  closed in bo...</td>\n",
       "    </tr>\n",
       "    <tr>\n",
       "      <th>6</th>\n",
       "      <td>10</td>\n",
       "      <td>NaN</td>\n",
       "      <td>NaN</td>\n",
       "      <td>#flood #disaster Heavy rain causes flash flood...</td>\n",
       "      <td>1</td>\n",
       "      <td>flood disaster heavy rain causes flash floodin...</td>\n",
       "    </tr>\n",
       "    <tr>\n",
       "      <th>7</th>\n",
       "      <td>13</td>\n",
       "      <td>NaN</td>\n",
       "      <td>NaN</td>\n",
       "      <td>I'm on top of the hill and I can see a fire in...</td>\n",
       "      <td>1</td>\n",
       "      <td>im on top of the hill and i can see a fire in ...</td>\n",
       "    </tr>\n",
       "    <tr>\n",
       "      <th>8</th>\n",
       "      <td>14</td>\n",
       "      <td>NaN</td>\n",
       "      <td>NaN</td>\n",
       "      <td>There's an emergency evacuation happening now ...</td>\n",
       "      <td>1</td>\n",
       "      <td>theres an emergency evacuation happening now i...</td>\n",
       "    </tr>\n",
       "    <tr>\n",
       "      <th>9</th>\n",
       "      <td>15</td>\n",
       "      <td>NaN</td>\n",
       "      <td>NaN</td>\n",
       "      <td>I'm afraid that the tornado is coming to our a...</td>\n",
       "      <td>1</td>\n",
       "      <td>im afraid that the tornado is coming to our area</td>\n",
       "    </tr>\n",
       "  </tbody>\n",
       "</table>\n",
       "</div>"
      ],
      "text/plain": [
       "   id keyword location                                               text  \\\n",
       "0   1     NaN      NaN  Our Deeds are the Reason of this #earthquake M...   \n",
       "1   4     NaN      NaN             Forest fire near La Ronge Sask. Canada   \n",
       "2   5     NaN      NaN  All residents asked to 'shelter in place' are ...   \n",
       "3   6     NaN      NaN  13,000 people receive #wildfires evacuation or...   \n",
       "4   7     NaN      NaN  Just got sent this photo from Ruby #Alaska as ...   \n",
       "5   8     NaN      NaN  #RockyFire Update => California Hwy. 20 closed...   \n",
       "6  10     NaN      NaN  #flood #disaster Heavy rain causes flash flood...   \n",
       "7  13     NaN      NaN  I'm on top of the hill and I can see a fire in...   \n",
       "8  14     NaN      NaN  There's an emergency evacuation happening now ...   \n",
       "9  15     NaN      NaN  I'm afraid that the tornado is coming to our a...   \n",
       "\n",
       "   target                                       cleaned_text  \n",
       "0       1  our deeds are the reason of this earthquake ma...  \n",
       "1       1              forest fire near la ronge sask canada  \n",
       "2       1  all residents asked to shelter in place are be...  \n",
       "3       1   people receive wildfires evacuation orders in...  \n",
       "4       1  just got sent this photo from ruby alaska as s...  \n",
       "5       1  rockyfire update  california hwy  closed in bo...  \n",
       "6       1  flood disaster heavy rain causes flash floodin...  \n",
       "7       1  im on top of the hill and i can see a fire in ...  \n",
       "8       1  theres an emergency evacuation happening now i...  \n",
       "9       1   im afraid that the tornado is coming to our area  "
      ]
     },
     "execution_count": 34,
     "metadata": {},
     "output_type": "execute_result"
    }
   ],
   "source": [
    "tweets_train.head(10)"
   ]
  },
  {
   "cell_type": "code",
   "execution_count": 5,
   "metadata": {},
   "outputs": [],
   "source": [
    "#Eliminamos los emojis del texto\n",
    "def remove_emoji(text):\n",
    "    emoji_pattern = re.compile(\"[\"\n",
    "                           u\"\\U0001F600-\\U0001F64F\" \n",
    "                           u\"\\U0001F300-\\U0001F5FF\" \n",
    "                           u\"\\U0001F680-\\U0001F6FF\" \n",
    "                           u\"\\U0001F1E0-\\U0001F1FF\"  \n",
    "                           u\"\\U00002702-\\U000027B0\"\n",
    "                           u\"\\U000024C2-\\U0001F251\"\n",
    "                           \"]+\", flags=re.UNICODE)\n",
    "    return emoji_pattern.sub(r'', text)\n",
    "\n",
    "#Almacenamos el texto limpio en una nueva feature del dataframe\n",
    "tweets_train['cleaned_text']=tweets_train['text'].apply(lambda x: remove_emoji(x))\n",
    "tweets_test['cleaned_text']=tweets_test['text'].apply(lambda x: remove_emoji(x))"
   ]
  },
  {
   "cell_type": "code",
   "execution_count": 6,
   "metadata": {},
   "outputs": [],
   "source": [
    "#Eliminamos los numeros, url, simbolos y signos de puntuacion del texto \n",
    "def clean_text(text):\n",
    "    text = text.lower()\n",
    "    text = re.sub('\\[.*?\\]', '', text)\n",
    "    text = re.sub('https?://\\S+|www\\.\\S+', '', text)\n",
    "    text = re.sub('<.*?>+', '', text)\n",
    "    text = re.sub('[%s]' % re.escape(string.punctuation), '', text)\n",
    "    text = re.sub('\\n', '', text)\n",
    "    text = re.sub('\\w*\\d\\w*', '', text)\n",
    "    return text"
   ]
  },
  {
   "cell_type": "code",
   "execution_count": 7,
   "metadata": {},
   "outputs": [],
   "source": [
    "tweets_train['cleaned_text'] = tweets_train['cleaned_text'].apply(lambda x: clean_text(x))\n",
    "tweets_test['cleaned_text'] = tweets_test['cleaned_text'].apply(lambda x: clean_text(x))"
   ]
  },
  {
   "cell_type": "code",
   "execution_count": 8,
   "metadata": {},
   "outputs": [],
   "source": [
    "train_text_emb = tweets_train.cleaned_text\n",
    "test_emb = tweets_test.cleaned_text\n",
    "train_target_emb = tweets_train.target"
   ]
  },
  {
   "cell_type": "code",
   "execution_count": 9,
   "metadata": {},
   "outputs": [],
   "source": [
    "#Tokenizer \n",
    "word_tokenizer = Tokenizer()\n",
    "word_tokenizer.fit_on_texts(train_text_emb)\n",
    "vocab_length = len(word_tokenizer.word_index) + 1"
   ]
  },
  {
   "cell_type": "code",
   "execution_count": 10,
   "metadata": {},
   "outputs": [],
   "source": [
    "def embed(corpus): \n",
    "    return word_tokenizer.texts_to_sequences(corpus)"
   ]
  },
  {
   "cell_type": "code",
   "execution_count": 13,
   "metadata": {},
   "outputs": [],
   "source": [
    "longest_train = max(train_text_emb, key=lambda sentence: len(word_tokenize(sentence)))\n",
    "length_long_sentence = len(word_tokenize(longest_train))\n",
    "padded_sentences = pad_sequences(embed(train_text_emb), length_long_sentence, padding='post')\n",
    "test_sentences = pad_sequences(embed(test_emb), length_long_sentence, padding='post')"
   ]
  },
  {
   "cell_type": "code",
   "execution_count": 21,
   "metadata": {},
   "outputs": [],
   "source": [
    "y = np.asarray(train_target_emb)"
   ]
  },
  {
   "cell_type": "code",
   "execution_count": 22,
   "metadata": {},
   "outputs": [],
   "source": [
    "#Separamos al dataset tweets_train en un set de entrenamiento y uno de validacion, para text y para target\n",
    "#El tamaño del set de validacion es del 25% del original\n",
    "xTrain, xTest, yTrain, yTest = train_test_split(padded_sentences, y, test_size=0.25)"
   ]
  },
  {
   "cell_type": "code",
   "execution_count": 23,
   "metadata": {},
   "outputs": [],
   "source": [
    "#GloVe\n",
    "#Creacion de diccionario de palabras a partir del archivo preentrenado de GloVe\n",
    "embeddings_dictionary = dict()\n",
    "embedding_dim = 100\n",
    "glove_file = open('Dataset/glove.6B.100d.txt')\n",
    "for line in glove_file:\n",
    "    records = line.split()\n",
    "    word = records[0]\n",
    "    vector_dimensions = np.asarray(records[1:], dtype='float32')\n",
    "    embeddings_dictionary [word] = vector_dimensions\n",
    "glove_file.close()"
   ]
  },
  {
   "cell_type": "code",
   "execution_count": 24,
   "metadata": {},
   "outputs": [],
   "source": [
    "#Creacion de matriz de ocurrencias de palabras que se encuentran en los textos de los tweets\n",
    "embedding_matrix = np.zeros((vocab_length, embedding_dim))\n",
    "for word, index in word_tokenizer.word_index.items():\n",
    "    embedding_vector = embeddings_dictionary.get(word)\n",
    "    if embedding_vector is not None:\n",
    "        embedding_matrix[index] = embedding_vector"
   ]
  },
  {
   "cell_type": "code",
   "execution_count": 25,
   "metadata": {},
   "outputs": [],
   "source": [
    "#Modelo de capas secuencial con LSTM\n",
    "model=Sequential()\n",
    "embedding=Embedding(embedding_matrix.shape[0],\n",
    "                    embedding_matrix.shape[1],\n",
    "                    embeddings_initializer=Constant(embedding_matrix),\n",
    "                   input_length=length_long_sentence,\n",
    "                    trainable=False)\n",
    "model.add(embedding)\n",
    "model.add(SpatialDropout1D(0.2))\n",
    "model.add(LSTM(100, dropout=0.2, recurrent_dropout=0.2))\n",
    "model.add(Dense(1, activation='sigmoid'))\n",
    "\n",
    "optimzer=Adam(learning_rate=3e-4)\n",
    "\n",
    "model.compile(loss='binary_crossentropy',optimizer=optimzer,metrics=['accuracy'])"
   ]
  },
  {
   "cell_type": "code",
   "execution_count": 26,
   "metadata": {},
   "outputs": [
    {
     "name": "stdout",
     "output_type": "stream",
     "text": [
      "Epoch 1/10\n",
      "5709/5709 [==============================] - ETA: 0s - loss: 0.5213 - accuracy: 0.7565\n",
      "Epoch 00001: val_loss improved from inf to 0.44800, saving model to model.h5\n",
      "5709/5709 [==============================] - 133s 23ms/step - loss: 0.5213 - accuracy: 0.7565 - val_loss: 0.4480 - val_accuracy: 0.7967\n",
      "Epoch 2/10\n",
      "5709/5709 [==============================] - ETA: 0s - loss: 0.4810 - accuracy: 0.7800\n",
      "Epoch 00002: val_loss improved from 0.44800 to 0.42387, saving model to model.h5\n",
      "5709/5709 [==============================] - 119s 21ms/step - loss: 0.4810 - accuracy: 0.7800 - val_loss: 0.4239 - val_accuracy: 0.8183\n",
      "Epoch 3/10\n",
      "5709/5709 [==============================] - ETA: 0s - loss: 0.4658 - accuracy: 0.7968\n",
      "Epoch 00003: val_loss did not improve from 0.42387\n",
      "5709/5709 [==============================] - 119s 21ms/step - loss: 0.4658 - accuracy: 0.7968 - val_loss: 0.4318 - val_accuracy: 0.8157\n",
      "Epoch 4/10\n",
      "5707/5709 [============================>.] - ETA: 0s - loss: 0.4532 - accuracy: 0.7983\n",
      "Epoch 00004: val_loss did not improve from 0.42387\n",
      "5709/5709 [==============================] - 122s 21ms/step - loss: 0.4532 - accuracy: 0.7982 - val_loss: 0.4422 - val_accuracy: 0.8162\n",
      "Epoch 5/10\n",
      "5708/5709 [============================>.] - ETA: 0s - loss: 0.4495 - accuracy: 0.7999\n",
      "Epoch 00005: val_loss did not improve from 0.42387\n",
      "5709/5709 [==============================] - 128s 22ms/step - loss: 0.4495 - accuracy: 0.8000 - val_loss: 0.4535 - val_accuracy: 0.8020\n",
      "Epoch 6/10\n",
      "5708/5709 [============================>.] - ETA: 0s - loss: 0.4428 - accuracy: 0.8059\n",
      "Epoch 00006: val_loss did not improve from 0.42387\n",
      "5709/5709 [==============================] - 128s 22ms/step - loss: 0.4429 - accuracy: 0.8057 - val_loss: 0.4437 - val_accuracy: 0.8104\n",
      "Epoch 7/10\n",
      "5709/5709 [==============================] - ETA: 0s - loss: 0.4329 - accuracy: 0.8099\n",
      "Epoch 00007: val_loss improved from 0.42387 to 0.41064, saving model to model.h5\n",
      "5709/5709 [==============================] - 129s 23ms/step - loss: 0.4329 - accuracy: 0.8099 - val_loss: 0.4106 - val_accuracy: 0.8157\n",
      "Epoch 8/10\n",
      "5709/5709 [==============================] - ETA: 0s - loss: 0.4202 - accuracy: 0.8149\n",
      "Epoch 00008: val_loss did not improve from 0.41064\n",
      "5709/5709 [==============================] - 139s 24ms/step - loss: 0.4202 - accuracy: 0.8149 - val_loss: 0.4306 - val_accuracy: 0.8004\n",
      "Epoch 9/10\n",
      "5708/5709 [============================>.] - ETA: 0s - loss: 0.4075 - accuracy: 0.8274\n",
      "Epoch 00009: val_loss did not improve from 0.41064\n",
      "5709/5709 [==============================] - 133s 23ms/step - loss: 0.4075 - accuracy: 0.8275 - val_loss: 0.4440 - val_accuracy: 0.8020\n",
      "Epoch 10/10\n",
      "5708/5709 [============================>.] - ETA: 0s - loss: 0.3984 - accuracy: 0.8302\n",
      "Epoch 00010: val_loss improved from 0.41064 to 0.40931, saving model to model.h5\n",
      "5709/5709 [==============================] - 135s 24ms/step - loss: 0.3983 - accuracy: 0.8303 - val_loss: 0.4093 - val_accuracy: 0.8209\n"
     ]
    }
   ],
   "source": [
    "checkpoint = ModelCheckpoint(\n",
    "    'model.h5', \n",
    "    monitor = 'val_loss', \n",
    "    verbose = 1, \n",
    "    save_best_only = True\n",
    ")\n",
    "reduce_lr = ReduceLROnPlateau(\n",
    "    monitor = 'val_loss', \n",
    "    factor = 0.2, \n",
    "    verbose = 1, \n",
    "    patience = 5,                        \n",
    "    min_lr = 0.001\n",
    ")\n",
    "history = model.fit(xTrain,yTrain,epochs=10,batch_size=1, validation_data=(xTest, yTest), verbose = 1, callbacks = [checkpoint, reduce_lr])"
   ]
  },
  {
   "cell_type": "code",
   "execution_count": 27,
   "metadata": {},
   "outputs": [
    {
     "name": "stdout",
     "output_type": "stream",
     "text": [
      "Model: \"sequential_1\"\n",
      "_________________________________________________________________\n",
      "Layer (type)                 Output Shape              Param #   \n",
      "=================================================================\n",
      "embedding_1 (Embedding)      (None, 31, 100)           1683400   \n",
      "_________________________________________________________________\n",
      "spatial_dropout1d_1 (Spatial (None, 31, 100)           0         \n",
      "_________________________________________________________________\n",
      "lstm_1 (LSTM)                (None, 100)               80400     \n",
      "_________________________________________________________________\n",
      "dense_1 (Dense)              (None, 1)                 101       \n",
      "=================================================================\n",
      "Total params: 1,763,901\n",
      "Trainable params: 80,501\n",
      "Non-trainable params: 1,683,400\n",
      "_________________________________________________________________\n"
     ]
    }
   ],
   "source": [
    "model.summary()"
   ]
  },
  {
   "cell_type": "code",
   "execution_count": 28,
   "metadata": {},
   "outputs": [],
   "source": [
    "def plot(history, arr):\n",
    "    fig, ax = plt.subplots(1, 2, figsize=(20, 5))\n",
    "    for idx in range(2):\n",
    "        ax[idx].plot(history.history[arr[idx][0]])\n",
    "        ax[idx].plot(history.history[arr[idx][1]])\n",
    "        ax[idx].legend([arr[idx][0], arr[idx][1]],fontsize=18)\n",
    "        ax[idx].set_xlabel('Epoch ',fontsize=16)\n",
    "        ax[idx].set_ylabel('Value',fontsize=16)\n",
    "        ax[idx].set_title(arr[idx][0] + ' X ' + arr[idx][1],fontsize=16)"
   ]
  },
  {
   "cell_type": "code",
   "execution_count": 29,
   "metadata": {},
   "outputs": [
    {
     "data": {
      "image/png": "[encoded data removed]",
      "text/plain": [
       "<Figure size 1440x360 with 2 Axes>"
      ]
     },
     "metadata": {
      "needs_background": "light"
     },
     "output_type": "display_data"
    }
   ],
   "source": [
    "plot(history, [['loss', 'val_loss'],['accuracy', 'val_accuracy']])"
   ]
  },
  {
   "cell_type": "code",
   "execution_count": 30,
   "metadata": {},
   "outputs": [],
   "source": [
    "model.load_weights('model.h5')"
   ]
  },
  {
   "cell_type": "code",
   "execution_count": 31,
   "metadata": {},
   "outputs": [
    {
     "name": "stdout",
     "output_type": "stream",
     "text": [
      "WARNING:tensorflow:From <ipython-input-31-4639692cebc9>:1: Sequential.predict_classes (from tensorflow.python.keras.engine.sequential) is deprecated and will be removed after 2021-01-01.\n",
      "Instructions for updating:\n",
      "Please use instead:* `np.argmax(model.predict(x), axis=-1)`,   if your model does multi-class classification   (e.g. if it uses a `softmax` last-layer activation).* `(model.predict(x) > 0.5).astype(\"int32\")`,   if your model does binary classification   (e.g. if it uses a `sigmoid` last-layer activation).\n"
     ]
    }
   ],
   "source": [
    "tweets_submission.target = model.predict_classes(test_sentences)\n",
    "tweets_submission.to_csv(\"submission.csv\", index=False)"
   ]
  },
  {
   "cell_type": "code",
   "execution_count": 32,
   "metadata": {},
   "outputs": [
    {
     "data": {
      "text/plain": [
       "Text(0, 0.5, 'Cantidad de tweets')"
      ]
     },
     "execution_count": 32,
     "metadata": {},
     "output_type": "execute_result"
    },
    {
     "data": {
      "image/png": "[encoded data removed]",
      "text/plain": [
       "<Figure size 720x504 with 1 Axes>"
      ]
     },
     "metadata": {
      "needs_background": "light"
     },
     "output_type": "display_data"
    }
   ],
   "source": [
    "plt.figure(figsize=(10,7))\n",
    "g = sns.barplot(x= tweets_submission.target.value_counts().index, y= tweets_submission.target.value_counts().values, orient='v', palette= 'husl', hue= tweets_submission.target.value_counts().index, dodge=False)\n",
    "g.set_title(\"Tweets Test\", fontsize=22)\n",
    "g.set_xlabel(\"Tipo de noticia\", fontsize=16)\n",
    "g.set_ylabel(\"Cantidad de tweets\", fontsize=16)"
   ]
  }
 ],
 "metadata": {
  "kernelspec": {
   "display_name": "Python 3",
   "language": "python",
   "name": "python3"
  },
  "language_info": {
   "codemirror_mode": {
    "name": "ipython",
    "version": 3
   },
   "file_extension": ".py",
   "mimetype": "text/x-python",
   "name": "python",
   "nbconvert_exporter": "python",
   "pygments_lexer": "ipython3",
   "version": "3.8.2"
  }
 },
 "nbformat": 4,
 "nbformat_minor": 4
}
