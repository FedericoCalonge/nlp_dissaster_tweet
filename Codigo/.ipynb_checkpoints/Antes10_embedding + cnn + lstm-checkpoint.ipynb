{
 "cells": [
  {
   "cell_type": "code",
   "execution_count": 1,
   "metadata": {},
   "outputs": [],
   "source": [
    "import numpy as np \n",
    "import pandas as pd\n",
    "\n",
    "from tensorflow.keras.models import Sequential, Model #for modeling\n",
    "from tensorflow.keras.layers import Dense, Embedding, LSTM, Input, SpatialDropout1D, Conv1D,MaxPool1D,BatchNormalization, GRU, SimpleRNN, Dropout,Flatten, concatenate,Bidirectional, GlobalMaxPool1D #CNN and LSTM layers\n",
    "from tensorflow.keras import utils \n",
    "from tensorflow.keras.optimizers import Adam, RMSprop, Adadelta\n",
    "from tensorflow.keras import callbacks\n",
    "from tensorflow.keras.callbacks import ReduceLROnPlateau, EarlyStopping, LearningRateScheduler, ModelCheckpoint\n",
    "from tensorflow.keras.preprocessing.sequence import pad_sequences \n",
    "from tensorflow.keras import regularizers\n",
    "\n",
    "from keras.preprocessing.text import Tokenizer, text_to_word_sequence\n",
    "from keras.initializers import Constant\n",
    "\n",
    "from sklearn.model_selection import train_test_split\n",
    "from sklearn.preprocessing import StandardScaler, OneHotEncoder\n",
    "from sklearn.feature_extraction.text import TfidfVectorizer # for tfid\n",
    "\n",
    "from scipy.sparse import hstack\n",
    "\n",
    "import matplotlib.pyplot as plt  #for visualization\n",
    "\n",
    "import nltk\n",
    "from nltk.stem import WordNetLemmatizer\n",
    "from nltk.corpus import stopwords\n",
    "from nltk.corpus import brown\n",
    "from nltk.stem.snowball import SnowballStemmer # for data cleaning\n",
    "\n",
    "import random\n",
    "import time\n",
    "import re\n",
    "from textblob import TextBlob"
   ]
  },
  {
   "cell_type": "code",
   "execution_count": 2,
   "metadata": {},
   "outputs": [],
   "source": [
    "train = pd.read_csv('train.csv').fillna(' ') #tuve que poner fillna para el tfidf\n",
    "test =  pd.read_csv('test.csv').fillna(' ')"
   ]
  },
  {
   "cell_type": "code",
   "execution_count": 3,
   "metadata": {},
   "outputs": [],
   "source": [
    "#Data cleaning"
   ]
  },
  {
   "cell_type": "code",
   "execution_count": 4,
   "metadata": {},
   "outputs": [],
   "source": [
    "#nltk.download('wordnet')\n",
    "stop_words = set(stopwords.words(\"english\")) \n",
    "lemmatizer = WordNetLemmatizer()"
   ]
  },
  {
   "cell_type": "code",
   "execution_count": null,
   "metadata": {},
   "outputs": [],
   "source": []
  },
  {
   "cell_type": "code",
   "execution_count": 5,
   "metadata": {},
   "outputs": [],
   "source": [
    "def clean_text(text):\n",
    "    text = re.sub(r'[^\\w\\s]','',text, re.UNICODE)\n",
    "    text = text.lower()\n",
    "    text = [lemmatizer.lemmatize(token) for token in text.split(\" \")]\n",
    "    text = [lemmatizer.lemmatize(token, \"v\") for token in text]\n",
    "    text = [word for word in text if not word in stop_words]\n",
    "    text = \" \".join(text)\n",
    "    return text\n",
    "\n",
    "#removing any shortforms if present\n",
    "def remove_shortforms(phrase):\n",
    "    phrase = re.sub(r\"won't\", \"will not\", phrase)\n",
    "    phrase = re.sub(r\"can\\'t\", \"can not\", phrase)\n",
    "    phrase = re.sub(r\"n\\'t\", \" not\", phrase)\n",
    "    phrase = re.sub(r\"\\'re\", \" are\", phrase)\n",
    "    phrase = re.sub(r\"\\'s\", \" is\", phrase)\n",
    "    phrase = re.sub(r\"\\'d\", \" would\", phrase)\n",
    "    phrase = re.sub(r\"\\'ll\", \" will\", phrase)\n",
    "    phrase = re.sub(r\"\\'t\", \" not\", phrase)\n",
    "    phrase = re.sub(r\"\\'ve\", \" have\", phrase)\n",
    "    phrase = re.sub(r\"\\'m\", \" am\", phrase)\n",
    "    return phrase\n",
    "\n",
    "def remove_special_char(text):\n",
    "    text = re.sub('[^A-Za-z0-9]+',\" \",text)\n",
    "    return text\n",
    "\n",
    "def remove_wordswithnum(text):\n",
    "    text = re.sub(\"\\S*\\d\\S*\", \"\", text).strip()\n",
    "    return text\n",
    "\n",
    "def lowercase(text):\n",
    "    text = text.lower()\n",
    "    return text\n",
    "\n",
    "st = SnowballStemmer(language='english')\n",
    "def stemming(text):\n",
    "    r= []\n",
    "    for word in text :\n",
    "        a = st.stem(word)\n",
    "        r.append(a)\n",
    "    return r\n",
    "\n",
    "def remove_punctuations(text):\n",
    "    text = re.sub(r'[^\\w\\s]','',text)\n",
    "    return text\n",
    "\n",
    "def remove_links(text):\n",
    "    text = re.sub(r'http\\S+', '', text)\n",
    "    return text\n",
    "\n",
    "lemmatizer = WordNetLemmatizer()\n",
    "def lemmatize_words(text):\n",
    "    text = lemmatizer.lemmatize(text)\n",
    "    return text\n",
    "\n",
    "def remove_html(text):\n",
    "    html=re.compile(r'<.*?>')\n",
    "    return html.sub(r'',text)\n",
    "\n"
   ]
  },
  {
   "cell_type": "code",
   "execution_count": 6,
   "metadata": {},
   "outputs": [
    {
     "name": "stderr",
     "output_type": "stream",
     "text": [
      "/home/matias/anaconda3/envs/nlp/lib/python3.7/site-packages/ipykernel_launcher.py:2: SettingWithCopyWarning: \n",
      "A value is trying to be set on a copy of a slice from a DataFrame\n",
      "\n",
      "See the caveats in the documentation: https://pandas.pydata.org/pandas-docs/stable/user_guide/indexing.html#returning-a-view-versus-a-copy\n",
      "  \n"
     ]
    }
   ],
   "source": [
    "for i in range(len(train['text'])):\n",
    "    train['text'][i] = str(train['text'][i])"
   ]
  },
  {
   "cell_type": "code",
   "execution_count": 7,
   "metadata": {},
   "outputs": [
    {
     "data": {
      "text/plain": [
       "\"for i in range(len(train['text'])):\\n    #train['text'][i] = remove_shortforms(train['text'][i])\\n    #train['text'][i] = remove_special_char(train['text'][i])\\n    #train['text'][i] = remove_wordswithnum(train['text'][i])\\n    train['text'][i] = lowercase(train['text'][i])\\n    train['text'][i] = remove_links(train['text'][i])\\n    train['text'][i] = clean_text(train['text'][i])\\n    #text = train['text'][i]\\n    #text = text.split()\\n    #train['text'][i] = stemming(text)\\n    #s = train['text'][i]\\n    #train['text'][i] = lemmatize_words(train['text'][i])\""
      ]
     },
     "execution_count": 7,
     "metadata": {},
     "output_type": "execute_result"
    }
   ],
   "source": [
    "\"\"\"for i in range(len(train['text'])):\n",
    "    #train['text'][i] = remove_shortforms(train['text'][i])\n",
    "    #train['text'][i] = remove_special_char(train['text'][i])\n",
    "    #train['text'][i] = remove_wordswithnum(train['text'][i])\n",
    "    train['text'][i] = lowercase(train['text'][i])\n",
    "    train['text'][i] = remove_links(train['text'][i])\n",
    "    train['text'][i] = clean_text(train['text'][i])\n",
    "    #text = train['text'][i]\n",
    "    #text = text.split()\n",
    "    #train['text'][i] = stemming(text)\n",
    "    #s = train['text'][i]\n",
    "    #train['text'][i] = lemmatize_words(train['text'][i])\"\"\""
   ]
  },
  {
   "cell_type": "markdown",
   "metadata": {},
   "source": [
    "## Pro processor\n",
    "source: https://www.kaggle.com/gunesevitan/nlp-with-disaster-tweets-eda-cleaning-and-bert"
   ]
  },
  {
   "cell_type": "code",
   "execution_count": 8,
   "metadata": {},
   "outputs": [],
   "source": [
    "all_text = pd.concat([train['text'], test['text']])"
   ]
  },
  {
   "cell_type": "code",
   "execution_count": 9,
   "metadata": {},
   "outputs": [
    {
     "name": "stdout",
     "output_type": "stream",
     "text": [
      "I'll make day fantastic  \n"
     ]
    }
   ],
   "source": [
    "custom_stop_list = []\n",
    "#stop_files=['slang.txt']\n",
    "#for stopfile in stop_files:\n",
    "#    with open(\"../data/\"+stopfile) as f:\n",
    "#        for line in f:\n",
    "#            custom_stop_list.extend(line.split())\n",
    "\n",
    "stopword_set = stopwords.words('english')+custom_stop_list+['url']\n",
    "\n",
    "# Reference : https://gist.github.com/slowkow/7a7f61f495e3dbb7e3d767f97bd7304b\n",
    "#https://www.kaggle.com/shahules/basic-eda-cleaning-and-glove\n",
    "\n",
    "def remove_emoji(text):\n",
    "    emoji_pattern = re.compile(\"[\"\n",
    "                           u\"\\U0001F600-\\U0001F64F\"  # emoticons\n",
    "                           u\"\\U0001F300-\\U0001F5FF\"  # symbols & pictographs\n",
    "                           u\"\\U0001F680-\\U0001F6FF\"  # transport & map symbols\n",
    "                           u\"\\U0001F1E0-\\U0001F1FF\"  # flags (iOS)\n",
    "                           u\"\\U00002702-\\U000027B0\"\n",
    "                           u\"\\U000024C2-\\U0001F251\"\n",
    "                           \"]+\", flags=re.UNICODE)\n",
    "    return emoji_pattern.sub(r'', text)\n",
    "\n",
    "\n",
    "remove_emoji(\"Omg another Earthquake 😔😔\")\n",
    "def preProcess(iter):\n",
    "    #https://www.kaggle.com/shahules/basic-eda-cleaning-and-glove\n",
    "    \n",
    "           \n",
    "        \n",
    "        # remove extra space\n",
    "        regex_ws=re.compile(\"\\s+\")\n",
    "        ret=regex_ws.sub(\" \",iter)\n",
    "        \n",
    "        ret=ret.replace(\"&amp;\",\"&\").replace(\"&lt;\",\"<\").replace(\"&gt;\",\">\")\n",
    "        \n",
    "        \n",
    "        #Replace slang words\n",
    "        #for key in abbreviations.keys():\n",
    "        #    ret=ret.replace(key,abbreviations[key])\n",
    "        \n",
    "        #Replace URL\n",
    "        regexp=\"(https?:\\/\\/(?:www\\.|(?!www)|(?:xmlns\\.))[a-zA-Z0-9][a-zA-Z0-9-]+[a-zA-Z0-9]\\.[^\\s]{2,}|www\\.[a-zA-Z0-9][a-zA-Z0-9-]+[a-zA-Z0-9]\\.[^\\s]{2,}|https?:\\/\\/(?:www\\.|(?!www))[a-zA-Z0-9]+\\.[^\\s]{2,}|www\\.[a-zA-Z0-9]+\\.[^\\s]{2,})\"\n",
    "        ret=re.sub(regexp,\"url\",ret)\n",
    "        \n",
    "        #replace @addresses\n",
    "        regexp='@[A-z0-9_]+'\n",
    "        ret=re.sub(regexp,\"@twitterhandle\",ret)\n",
    "        \n",
    "        ret=remove_emoji(ret)\n",
    "        #ret=replace_contractions(ret)\n",
    "        #Split on punctuations\n",
    "        ret1=re.split(\"[,_, \\<>!\\?\\.:\\n\\\"=*/]+\",ret)\n",
    "        \n",
    "        #Remove Stopwords\n",
    "        ret2=[word for word in ret1 if word not in stopword_set]\n",
    "        ret2=\" \".join(ret2)\n",
    "        \n",
    "        #Remove  numbers\n",
    "        ret2=re.sub(r\"(\\s\\d+)\",\" \",ret2)\n",
    "                \n",
    "        #STEM TEXT\n",
    "        #ret3=stem_text(strip_punctuation(ret2))\n",
    "    \n",
    "        return ret2\n",
    "te=preProcess(\"I'll make the day a fantastic 1!!\")\n",
    "print(te)"
   ]
  },
  {
   "cell_type": "markdown",
   "metadata": {},
   "source": [
    "## Embedding"
   ]
  },
  {
   "cell_type": "code",
   "execution_count": 10,
   "metadata": {},
   "outputs": [],
   "source": [
    "maxWordsCount = 20000\n",
    "tokenizer = Tokenizer(num_words=maxWordsCount, filters='!\"#$%&()*+,-./:;<=>?@[\\\\]^_`{|}~\\t\\n', lower=True, split=' ', oov_token='unknown', char_level=False)\n",
    "tokenizer.fit_on_texts(train['text'])\n",
    "word_index = tokenizer.word_index\n",
    "vocab_size = max_features = len(word_index)"
   ]
  },
  {
   "cell_type": "code",
   "execution_count": 11,
   "metadata": {},
   "outputs": [],
   "source": [
    "trainWordIndexes = tokenizer.texts_to_sequences(train['text']) "
   ]
  },
  {
   "cell_type": "code",
   "execution_count": 12,
   "metadata": {},
   "outputs": [
    {
     "name": "stdout",
     "output_type": "stream",
     "text": [
      "The size of the embedding index is : 400000\n"
     ]
    }
   ],
   "source": [
    "path_file = 'glove.6B.100d.txt'\n",
    "embedding_dict_100d={}\n",
    "with open(path_file,'r', encoding='utf8') as f:\n",
    "    for line in f:\n",
    "        values=line.split(' ')\n",
    "        word=values[0]\n",
    "        vectors=np.asarray(values[1:],'float32')\n",
    "        embedding_dict_100d[word]=vectors\n",
    "f.close()\n",
    "\n",
    "print('The size of the embedding index is : %d'%(len(embedding_dict_100d)))"
   ]
  },
  {
   "cell_type": "code",
   "execution_count": 13,
   "metadata": {},
   "outputs": [
    {
     "data": {
      "text/plain": [
       "(22701, 100)"
      ]
     },
     "execution_count": 13,
     "metadata": {},
     "output_type": "execute_result"
    }
   ],
   "source": [
    "embedding_dim  = 100\n",
    "\n",
    "embedding_matrix = np.zeros((max_features+1, embedding_dim))\n",
    "\n",
    "for word, i in word_index.items():\n",
    "  if i < max_features:\n",
    "    \n",
    "    try:\n",
    "      embedding_matrix[i] =embedding_dict_100d[word]\n",
    "    except KeyError:  \n",
    "      embedding_matrix[i] = np.zeros((1, embedding_dim))\n",
    "embedding_matrix.shape"
   ]
  },
  {
   "cell_type": "code",
   "execution_count": 14,
   "metadata": {},
   "outputs": [],
   "source": [
    "maxLen = 25\n",
    "XEmb = pad_sequences(trainWordIndexes, maxlen=maxLen,padding='post')\n",
    "y = np.asarray(train['target'])\n",
    "#y = np.asarray(train_target)"
   ]
  },
  {
   "cell_type": "code",
   "execution_count": 15,
   "metadata": {},
   "outputs": [],
   "source": [
    "xTrain, xVal, yTrain, yVal = train_test_split(XEmb, y, test_size=0.20)"
   ]
  },
  {
   "cell_type": "code",
   "execution_count": 16,
   "metadata": {},
   "outputs": [],
   "source": [
    "checkpoint = ModelCheckpoint(\"/home/matias/workspace-ia/Organización de Datos - UBA/tp-2/tutorial/lstm_Checkpoint_with_cnn.h5\",\n",
    "                             monitor=\"val_loss\",\n",
    "                             mode=\"min\",\n",
    "                             save_best_only = True,\n",
    "                             verbose=1)\n",
    "\n",
    "earlystop = EarlyStopping(monitor = 'val_loss', \n",
    "                          min_delta = 0, \n",
    "                          patience = 10,\n",
    "                          verbose = 1,\n",
    "                          restore_best_weights = True)\n",
    "\n",
    "reduce_lr = ReduceLROnPlateau(monitor = 'val_loss',\n",
    "                              factor = 0.2,\n",
    "                              patience = 7,\n",
    "                              verbose = 1,\n",
    "                              min_delta = 0.0001)\n",
    "\n",
    "# we put our call backs into a callback list\n",
    "#callbacks_m = [checkpoint, reduce_lr]\n",
    "callbacks_m = [checkpoint, earlystop, reduce_lr]"
   ]
  },
  {
   "cell_type": "code",
   "execution_count": 17,
   "metadata": {},
   "outputs": [
    {
     "name": "stdout",
     "output_type": "stream",
     "text": [
      "WARNING:tensorflow:Layer lstm will not use cuDNN kernel since it doesn't meet the cuDNN kernel criteria. It will use generic GPU kernel as fallback when running on GPU\n",
      "WARNING:tensorflow:Layer lstm will not use cuDNN kernel since it doesn't meet the cuDNN kernel criteria. It will use generic GPU kernel as fallback when running on GPU\n",
      "WARNING:tensorflow:Layer lstm will not use cuDNN kernel since it doesn't meet the cuDNN kernel criteria. It will use generic GPU kernel as fallback when running on GPU\n",
      "Model: \"sequential\"\n",
      "_________________________________________________________________\n",
      "Layer (type)                 Output Shape              Param #   \n",
      "=================================================================\n",
      "embedding (Embedding)        (None, None, 100)         2270100   \n",
      "_________________________________________________________________\n",
      "spatial_dropout1d (SpatialDr (None, None, 100)         0         \n",
      "_________________________________________________________________\n",
      "conv1d (Conv1D)              (None, None, 32)          25632     \n",
      "_________________________________________________________________\n",
      "max_pooling1d (MaxPooling1D) (None, None, 32)          0         \n",
      "_________________________________________________________________\n",
      "bidirectional (Bidirectional (None, None, 64)          16640     \n",
      "_________________________________________________________________\n",
      "global_max_pooling1d (Global (None, 64)                0         \n",
      "_________________________________________________________________\n",
      "dropout (Dropout)            (None, 64)                0         \n",
      "_________________________________________________________________\n",
      "dense (Dense)                (None, 1)                 65        \n",
      "=================================================================\n",
      "Total params: 2,312,437\n",
      "Trainable params: 2,312,437\n",
      "Non-trainable params: 0\n",
      "_________________________________________________________________\n"
     ]
    }
   ],
   "source": [
    "#Embedding\n",
    "model = Sequential()\n",
    "model.add(Embedding(max_features+1, embedding_dim, mask_zero=True,embeddings_initializer=Constant(embedding_matrix)))\n",
    "model.add(SpatialDropout1D(0.5))\n",
    "#CNN\n",
    "model.add(Conv1D(filters=32,kernel_size=8, activation='relu', padding=\"valid\", strides = 1))\n",
    "model.add(MaxPool1D(pool_size=4))\n",
    "#LSTM\n",
    "model.add(Bidirectional(LSTM(32, return_sequences = True, dropout=0.3, recurrent_dropout=0.5)))\n",
    "model.add(GlobalMaxPool1D())\n",
    "model.add(Dropout(0.5))\n",
    "model.add(Dense(1, activation=\"sigmoid\"))\n",
    "#Compile\n",
    "model.compile(loss='binary_crossentropy', optimizer='adam', metrics=['accuracy'])\n",
    "model.summary()"
   ]
  },
  {
   "cell_type": "code",
   "execution_count": 18,
   "metadata": {
    "scrolled": true
   },
   "outputs": [
    {
     "name": "stdout",
     "output_type": "stream",
     "text": [
      "Epoch 1/10\n",
      "191/191 [==============================] - ETA: 0s - loss: 0.5908 - accuracy: 0.6938\n",
      "Epoch 00001: val_loss improved from inf to 0.46792, saving model to /home/matias/workspace-ia/Organización de Datos - UBA/tp-2/tutorial/lstm_Checkpoint_with_cnn.h5\n",
      "191/191 [==============================] - 11s 59ms/step - loss: 0.5908 - accuracy: 0.6938 - val_loss: 0.4679 - val_accuracy: 0.8024 - lr: 0.0010\n",
      "Epoch 2/10\n",
      "190/191 [============================>.] - ETA: 0s - loss: 0.4937 - accuracy: 0.7714\n",
      "Epoch 00002: val_loss improved from 0.46792 to 0.42199, saving model to /home/matias/workspace-ia/Organización de Datos - UBA/tp-2/tutorial/lstm_Checkpoint_with_cnn.h5\n",
      "191/191 [==============================] - 9s 48ms/step - loss: 0.4936 - accuracy: 0.7716 - val_loss: 0.4220 - val_accuracy: 0.8142 - lr: 0.0010\n",
      "Epoch 3/10\n",
      "191/191 [==============================] - ETA: 0s - loss: 0.4519 - accuracy: 0.7964\n",
      "Epoch 00003: val_loss improved from 0.42199 to 0.41816, saving model to /home/matias/workspace-ia/Organización de Datos - UBA/tp-2/tutorial/lstm_Checkpoint_with_cnn.h5\n",
      "191/191 [==============================] - 10s 54ms/step - loss: 0.4519 - accuracy: 0.7964 - val_loss: 0.4182 - val_accuracy: 0.8076 - lr: 0.0010\n",
      "Epoch 4/10\n",
      "191/191 [==============================] - ETA: 0s - loss: 0.4144 - accuracy: 0.8228\n",
      "Epoch 00004: val_loss improved from 0.41816 to 0.39785, saving model to /home/matias/workspace-ia/Organización de Datos - UBA/tp-2/tutorial/lstm_Checkpoint_with_cnn.h5\n",
      "191/191 [==============================] - 11s 57ms/step - loss: 0.4144 - accuracy: 0.8228 - val_loss: 0.3979 - val_accuracy: 0.8221 - lr: 0.0010\n",
      "Epoch 5/10\n",
      "191/191 [==============================] - ETA: 0s - loss: 0.3807 - accuracy: 0.8361\n",
      "Epoch 00005: val_loss improved from 0.39785 to 0.39627, saving model to /home/matias/workspace-ia/Organización de Datos - UBA/tp-2/tutorial/lstm_Checkpoint_with_cnn.h5\n",
      "191/191 [==============================] - 9s 50ms/step - loss: 0.3807 - accuracy: 0.8361 - val_loss: 0.3963 - val_accuracy: 0.8175 - lr: 0.0010\n",
      "Epoch 6/10\n",
      "190/191 [============================>.] - ETA: 0s - loss: 0.3561 - accuracy: 0.8528\n",
      "Epoch 00006: val_loss did not improve from 0.39627\n",
      "191/191 [==============================] - 8s 43ms/step - loss: 0.3557 - accuracy: 0.8530 - val_loss: 0.3997 - val_accuracy: 0.8188 - lr: 0.0010\n",
      "Epoch 7/10\n",
      "190/191 [============================>.] - ETA: 0s - loss: 0.3235 - accuracy: 0.8674\n",
      "Epoch 00007: val_loss did not improve from 0.39627\n",
      "191/191 [==============================] - 8s 43ms/step - loss: 0.3233 - accuracy: 0.8677 - val_loss: 0.4081 - val_accuracy: 0.8168 - lr: 0.0010\n",
      "Epoch 8/10\n",
      "190/191 [============================>.] - ETA: 0s - loss: 0.2976 - accuracy: 0.8793\n",
      "Epoch 00008: val_loss did not improve from 0.39627\n",
      "191/191 [==============================] - 8s 42ms/step - loss: 0.2978 - accuracy: 0.8791 - val_loss: 0.4143 - val_accuracy: 0.8260 - lr: 0.0010\n",
      "Epoch 9/10\n",
      "190/191 [============================>.] - ETA: 0s - loss: 0.2672 - accuracy: 0.8957\n",
      "Epoch 00009: val_loss did not improve from 0.39627\n",
      "191/191 [==============================] - 8s 42ms/step - loss: 0.2671 - accuracy: 0.8956 - val_loss: 0.4264 - val_accuracy: 0.8155 - lr: 0.0010\n",
      "Epoch 10/10\n",
      "190/191 [============================>.] - ETA: 0s - loss: 0.2365 - accuracy: 0.9033\n",
      "Epoch 00010: val_loss did not improve from 0.39627\n",
      "191/191 [==============================] - 8s 43ms/step - loss: 0.2363 - accuracy: 0.9034 - val_loss: 0.4495 - val_accuracy: 0.8129 - lr: 0.0010\n"
     ]
    }
   ],
   "source": [
    "#xTrain, xVal, yTrain, yVal = train_test_split(XEmb, y, test_size=0.20)\n",
    "history = model.fit(xTrain,yTrain,epochs=10,batch_size=32, validation_data=(xVal, yVal), callbacks=[callbacks_m])"
   ]
  },
  {
   "cell_type": "code",
   "execution_count": 23,
   "metadata": {},
   "outputs": [
    {
     "data": {
      "image/png": "[encoded data removed]",
      "text/plain": [
       "<Figure size 936x360 with 2 Axes>"
      ]
     },
     "metadata": {
      "needs_background": "light"
     },
     "output_type": "display_data"
    }
   ],
   "source": [
    "def plots_visual(result_model):\n",
    "  fig, axes = plt.subplots(1, 2, figsize=(13,5))\n",
    "  axes[0].plot(result_model.history['accuracy'])\n",
    "  axes[0].plot(result_model.history['val_accuracy'])\n",
    "  axes[0].legend(['accuracy', 'val_accuracy'])\n",
    "  axes[0].set_title('Accuracy')\n",
    "  axes[0].set_xlabel('Epochs')\n",
    "  axes[1].plot(result_model.history['loss'])\n",
    "  axes[1].plot(result_model.history['val_loss'])\n",
    "  axes[1].legend(['loss', 'val_loss'])\n",
    "  axes[1].set_title('Loss')\n",
    "  axes[1].set_xlabel('Epochs')\n",
    "plots_visual(history)"
   ]
  },
  {
   "cell_type": "code",
   "execution_count": 20,
   "metadata": {},
   "outputs": [
    {
     "name": "stdout",
     "output_type": "stream",
     "text": [
      "WARNING:tensorflow:Layer lstm will not use cuDNN kernel since it doesn't meet the cuDNN kernel criteria. It will use generic GPU kernel as fallback when running on GPU\n",
      "WARNING:tensorflow:Layer lstm will not use cuDNN kernel since it doesn't meet the cuDNN kernel criteria. It will use generic GPU kernel as fallback when running on GPU\n",
      "WARNING:tensorflow:Layer lstm will not use cuDNN kernel since it doesn't meet the cuDNN kernel criteria. It will use generic GPU kernel as fallback when running on GPU\n"
     ]
    }
   ],
   "source": [
    "from tensorflow.keras.models import load_model\n",
    "model  = load_model('/home/matias/workspace-ia/Organización de Datos - UBA/tp-2/tutorial/lstm_Checkpoint_with_cnn.h5')"
   ]
  },
  {
   "cell_type": "code",
   "execution_count": 21,
   "metadata": {},
   "outputs": [],
   "source": [
    "def prediction(data, namefile):\n",
    "    data = data.copy()\n",
    "    data['text'] = data['text'].apply(clean_text)\n",
    "    dataval = tokenizer.texts_to_sequences(data['text'])\n",
    "    text_sequens = pad_sequences(dataval, maxlen=maxLen,padding='post')\n",
    "    predictions = model.predict(text_sequens)\n",
    "    predictions = np.round(predictions).astype(int).reshape(3263)\n",
    "    testData = data[['id']]\n",
    "    testData['target'] = predictions\n",
    "    testData.to_csv(f'{namefile}.csv',index=False)"
   ]
  },
  {
   "cell_type": "code",
   "execution_count": 22,
   "metadata": {},
   "outputs": [
    {
     "name": "stderr",
     "output_type": "stream",
     "text": [
      "/home/matias/anaconda3/envs/nlp/lib/python3.7/site-packages/ipykernel_launcher.py:9: SettingWithCopyWarning: \n",
      "A value is trying to be set on a copy of a slice from a DataFrame.\n",
      "Try using .loc[row_indexer,col_indexer] = value instead\n",
      "\n",
      "See the caveats in the documentation: https://pandas.pydata.org/pandas-docs/stable/user_guide/indexing.html#returning-a-view-versus-a-copy\n",
      "  if __name__ == '__main__':\n"
     ]
    }
   ],
   "source": [
    "prediction(test, 'submission')"
   ]
  },
  {
   "cell_type": "code",
   "execution_count": null,
   "metadata": {},
   "outputs": [],
   "source": []
  }
 ],
 "metadata": {
  "kernelspec": {
   "display_name": "Python 3",
   "language": "python",
   "name": "python3"
  },
  "language_info": {
   "codemirror_mode": {
    "name": "ipython",
    "version": 3
   },
   "file_extension": ".py",
   "mimetype": "text/x-python",
   "name": "python",
   "nbconvert_exporter": "python",
   "pygments_lexer": "ipython3",
   "version": "3.8.3"
  }
 },
 "nbformat": 4,
 "nbformat_minor": 4
}
