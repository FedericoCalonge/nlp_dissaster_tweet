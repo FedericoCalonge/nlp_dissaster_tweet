{
 "cells": [
  {
   "cell_type": "code",
   "execution_count": 1,
   "metadata": {},
   "outputs": [],
   "source": [
    "import pandas as pd\n",
    "import numpy as np\n",
    "import re\n",
    "import string\n",
    "import matplotlib.pyplot as plt\n",
    "import seaborn as sns"
   ]
  },
  {
   "cell_type": "code",
   "execution_count": 2,
   "metadata": {},
   "outputs": [],
   "source": [
    "from tensorflow.keras.models import Sequential, Model \n",
    "from tensorflow.keras.layers import Dense, Embedding, LSTM, Input, SpatialDropout1D, Dropout, BatchNormalization, Bidirectional, GlobalMaxPool1D\n",
    "from sklearn.model_selection import train_test_split\n",
    "from tensorflow.keras.optimizers import Adam, RMSprop, Adadelta\n",
    "from keras.preprocessing.text import Tokenizer, text_to_word_sequence\n",
    "from tensorflow.keras.callbacks import ReduceLROnPlateau, ModelCheckpoint\n",
    "from tensorflow.keras.preprocessing.sequence import pad_sequences \n",
    "from keras.initializers import Constant\n",
    "from nltk.tokenize import word_tokenize"
   ]
  },
  {
   "cell_type": "code",
   "execution_count": 3,
   "metadata": {},
   "outputs": [],
   "source": [
    "#Cargamos dataset train en un dataframe\n",
    "tweets_train = pd.read_csv('Dataset/train.csv')\n",
    "tweets_test = pd.read_csv('Dataset/test.csv')\n",
    "tweets_submission = pd.read_csv('Dataset/sample_submission.csv') "
   ]
  },
  {
   "cell_type": "code",
   "execution_count": 4,
   "metadata": {},
   "outputs": [
    {
     "data": {
      "text/html": [
       "<div>\n",
       "<style scoped>\n",
       "    .dataframe tbody tr th:only-of-type {\n",
       "        vertical-align: middle;\n",
       "    }\n",
       "\n",
       "    .dataframe tbody tr th {\n",
       "        vertical-align: top;\n",
       "    }\n",
       "\n",
       "    .dataframe thead th {\n",
       "        text-align: right;\n",
       "    }\n",
       "</style>\n",
       "<table border=\"1\" class=\"dataframe\">\n",
       "  <thead>\n",
       "    <tr style=\"text-align: right;\">\n",
       "      <th></th>\n",
       "      <th>id</th>\n",
       "      <th>keyword</th>\n",
       "      <th>location</th>\n",
       "      <th>text</th>\n",
       "      <th>target</th>\n",
       "    </tr>\n",
       "  </thead>\n",
       "  <tbody>\n",
       "    <tr>\n",
       "      <th>0</th>\n",
       "      <td>1</td>\n",
       "      <td>NaN</td>\n",
       "      <td>NaN</td>\n",
       "      <td>Our Deeds are the Reason of this #earthquake M...</td>\n",
       "      <td>1</td>\n",
       "    </tr>\n",
       "    <tr>\n",
       "      <th>1</th>\n",
       "      <td>4</td>\n",
       "      <td>NaN</td>\n",
       "      <td>NaN</td>\n",
       "      <td>Forest fire near La Ronge Sask. Canada</td>\n",
       "      <td>1</td>\n",
       "    </tr>\n",
       "    <tr>\n",
       "      <th>2</th>\n",
       "      <td>5</td>\n",
       "      <td>NaN</td>\n",
       "      <td>NaN</td>\n",
       "      <td>All residents asked to 'shelter in place' are ...</td>\n",
       "      <td>1</td>\n",
       "    </tr>\n",
       "    <tr>\n",
       "      <th>3</th>\n",
       "      <td>6</td>\n",
       "      <td>NaN</td>\n",
       "      <td>NaN</td>\n",
       "      <td>13,000 people receive #wildfires evacuation or...</td>\n",
       "      <td>1</td>\n",
       "    </tr>\n",
       "    <tr>\n",
       "      <th>4</th>\n",
       "      <td>7</td>\n",
       "      <td>NaN</td>\n",
       "      <td>NaN</td>\n",
       "      <td>Just got sent this photo from Ruby #Alaska as ...</td>\n",
       "      <td>1</td>\n",
       "    </tr>\n",
       "  </tbody>\n",
       "</table>\n",
       "</div>"
      ],
      "text/plain": [
       "   id keyword location                                               text  \\\n",
       "0   1     NaN      NaN  Our Deeds are the Reason of this #earthquake M...   \n",
       "1   4     NaN      NaN             Forest fire near La Ronge Sask. Canada   \n",
       "2   5     NaN      NaN  All residents asked to 'shelter in place' are ...   \n",
       "3   6     NaN      NaN  13,000 people receive #wildfires evacuation or...   \n",
       "4   7     NaN      NaN  Just got sent this photo from Ruby #Alaska as ...   \n",
       "\n",
       "   target  \n",
       "0       1  \n",
       "1       1  \n",
       "2       1  \n",
       "3       1  \n",
       "4       1  "
      ]
     },
     "execution_count": 4,
     "metadata": {},
     "output_type": "execute_result"
    }
   ],
   "source": [
    "tweets_train.head()"
   ]
  },
  {
   "cell_type": "code",
   "execution_count": 5,
   "metadata": {},
   "outputs": [],
   "source": [
    "#Eliminamos los emojis del texto\n",
    "def remove_emoji(text):\n",
    "    emoji_pattern = re.compile(\"[\"\n",
    "                           u\"\\U0001F600-\\U0001F64F\" \n",
    "                           u\"\\U0001F300-\\U0001F5FF\" \n",
    "                           u\"\\U0001F680-\\U0001F6FF\" \n",
    "                           u\"\\U0001F1E0-\\U0001F1FF\"  \n",
    "                           u\"\\U00002702-\\U000027B0\"\n",
    "                           u\"\\U000024C2-\\U0001F251\"\n",
    "                           \"]+\", flags=re.UNICODE)\n",
    "    return emoji_pattern.sub(r'', text)\n",
    "\n",
    "#Almacenamos el texto limpio en una nueva feature del dataframe\n",
    "tweets_train['cleaned_text']=tweets_train['text'].apply(lambda x: remove_emoji(x))\n",
    "tweets_test['cleaned_text']=tweets_test['text'].apply(lambda x: remove_emoji(x))"
   ]
  },
  {
   "cell_type": "code",
   "execution_count": 6,
   "metadata": {},
   "outputs": [],
   "source": [
    "#Eliminamos los numeros, url, simbolos y signos de puntuacion del texto \n",
    "def clean_text(text):\n",
    "    text = text.lower()\n",
    "    text = re.sub('\\[.*?\\]', '', text)\n",
    "    text = re.sub('https?://\\S+|www\\.\\S+', '', text)\n",
    "    text = re.sub('<.*?>+', '', text)\n",
    "    text = re.sub('[%s]' % re.escape(string.punctuation), '', text)\n",
    "    text = re.sub('\\n', '', text)\n",
    "    text = re.sub('\\w*\\d\\w*', '', text)\n",
    "    return text"
   ]
  },
  {
   "cell_type": "code",
   "execution_count": 7,
   "metadata": {},
   "outputs": [],
   "source": [
    "tweets_train['cleaned_text'] = tweets_train['cleaned_text'].apply(lambda x: clean_text(x))\n",
    "tweets_test['cleaned_text'] = tweets_test['cleaned_text'].apply(lambda x: clean_text(x))"
   ]
  },
  {
   "cell_type": "code",
   "execution_count": 8,
   "metadata": {},
   "outputs": [],
   "source": [
    "train_text_emb = tweets_train.cleaned_text\n",
    "test_emb = tweets_test.cleaned_text\n",
    "train_target_emb = tweets_train.target"
   ]
  },
  {
   "cell_type": "code",
   "execution_count": 9,
   "metadata": {},
   "outputs": [],
   "source": [
    "#Tokenizer\n",
    "word_tokenizer = Tokenizer()\n",
    "word_tokenizer.fit_on_texts(train_text_emb)\n",
    "vocab_length = len(word_tokenizer.word_index) + 1"
   ]
  },
  {
   "cell_type": "code",
   "execution_count": 10,
   "metadata": {},
   "outputs": [],
   "source": [
    "def embed(corpus): \n",
    "    return word_tokenizer.texts_to_sequences(corpus)"
   ]
  },
  {
   "cell_type": "code",
   "execution_count": 11,
   "metadata": {},
   "outputs": [],
   "source": [
    "longest_train = max(train_text_emb, key=lambda sentence: len(word_tokenize(sentence)))\n",
    "length_long_sentence = len(word_tokenize(longest_train))\n",
    "padded_sentences = pad_sequences(embed(train_text_emb), length_long_sentence, padding='post')\n",
    "test_sentences = pad_sequences(embed(test_emb), length_long_sentence, padding='post')"
   ]
  },
  {
   "cell_type": "code",
   "execution_count": 12,
   "metadata": {},
   "outputs": [],
   "source": [
    "y = np.asarray(train_target_emb)"
   ]
  },
  {
   "cell_type": "code",
   "execution_count": 13,
   "metadata": {},
   "outputs": [],
   "source": [
    "#Separamos al dataset tweets_train en un set de entrenamiento y uno de validacion, para text y para target\n",
    "#El tamaño del set de validacion es del 25% del original\n",
    "xTrain, xVal, yTrain, yVal = train_test_split(padded_sentences, y, test_size=0.25)"
   ]
  },
  {
   "cell_type": "code",
   "execution_count": 14,
   "metadata": {},
   "outputs": [
    {
     "ename": "FileNotFoundError",
     "evalue": "[Errno 2] No such file or directory: 'Dataset/glove.twitter.27B.100d.txt'",
     "output_type": "error",
     "traceback": [
      "\u001b[0;31m---------------------------------------------------------------------------\u001b[0m",
      "\u001b[0;31mFileNotFoundError\u001b[0m                         Traceback (most recent call last)",
      "\u001b[0;32m<ipython-input-14-4c0f5a24e2a6>\u001b[0m in \u001b[0;36m<module>\u001b[0;34m\u001b[0m\n\u001b[1;32m      2\u001b[0m \u001b[0;31m#Creacion de diccionario de palabras a partir del archivo preentrenado de GloVeembeddings_dictionary = dict()\u001b[0m\u001b[0;34m\u001b[0m\u001b[0;34m\u001b[0m\u001b[0;34m\u001b[0m\u001b[0m\n\u001b[1;32m      3\u001b[0m \u001b[0membedding_dim\u001b[0m \u001b[0;34m=\u001b[0m \u001b[0;36m100\u001b[0m\u001b[0;34m\u001b[0m\u001b[0;34m\u001b[0m\u001b[0m\n\u001b[0;32m----> 4\u001b[0;31m \u001b[0mglove_file\u001b[0m \u001b[0;34m=\u001b[0m \u001b[0mopen\u001b[0m\u001b[0;34m(\u001b[0m\u001b[0;34m'Dataset/glove.twitter.27B.100d.txt'\u001b[0m\u001b[0;34m)\u001b[0m\u001b[0;34m\u001b[0m\u001b[0;34m\u001b[0m\u001b[0m\n\u001b[0m\u001b[1;32m      5\u001b[0m \u001b[0;32mfor\u001b[0m \u001b[0mline\u001b[0m \u001b[0;32min\u001b[0m \u001b[0mglove_file\u001b[0m\u001b[0;34m:\u001b[0m\u001b[0;34m\u001b[0m\u001b[0;34m\u001b[0m\u001b[0m\n\u001b[1;32m      6\u001b[0m     \u001b[0mrecords\u001b[0m \u001b[0;34m=\u001b[0m \u001b[0mline\u001b[0m\u001b[0;34m.\u001b[0m\u001b[0msplit\u001b[0m\u001b[0;34m(\u001b[0m\u001b[0;34m)\u001b[0m\u001b[0;34m\u001b[0m\u001b[0;34m\u001b[0m\u001b[0m\n",
      "\u001b[0;31mFileNotFoundError\u001b[0m: [Errno 2] No such file or directory: 'Dataset/glove.twitter.27B.100d.txt'"
     ]
    }
   ],
   "source": [
    "#GloVe\n",
    "#Creacion de diccionario de palabras a partir del archivo preentrenado de GloVeembeddings_dictionary = dict()\n",
    "embedding_dim = 100\n",
    "glove_file = open('Dataset/glove.twitter.27B.100d.txt')\n",
    "for line in glove_file:\n",
    "    records = line.split()\n",
    "    word = records[0]\n",
    "    vector_dimensions = np.asarray(records[1:], dtype='float32')\n",
    "    embeddings_dictionary [word] = vector_dimensions\n",
    "glove_file.close()"
   ]
  },
  {
   "cell_type": "code",
   "execution_count": null,
   "metadata": {},
   "outputs": [],
   "source": [
    "#Creacion de matriz de ocurrencias de palabras que se encuentran en los textos de los tweets\n",
    "embedding_matrix = np.zeros((vocab_length, embedding_dim))\n",
    "for word, index in word_tokenizer.word_index.items():\n",
    "    embedding_vector = embeddings_dictionary.get(word)\n",
    "    if embedding_vector is not None:\n",
    "        embedding_matrix[index] = embedding_vector"
   ]
  },
  {
   "cell_type": "code",
   "execution_count": null,
   "metadata": {},
   "outputs": [],
   "source": [
    "#Modelo de capas secuencial con BLSTM\n",
    "def BLSTM():\n",
    "    model = Sequential()\n",
    "    model.add(Embedding(input_dim=embedding_matrix.shape[0], \n",
    "                        output_dim=embedding_matrix.shape[1], \n",
    "                        weights = [embedding_matrix], \n",
    "                        input_length=length_long_sentence))\n",
    "    model.add(Bidirectional(LSTM(length_long_sentence, return_sequences = True, recurrent_dropout=0.2)))\n",
    "    model.add(GlobalMaxPool1D())\n",
    "    model.add(BatchNormalization())\n",
    "    model.add(Dropout(0.5))\n",
    "    model.add(Dense(length_long_sentence, activation = \"relu\"))\n",
    "    model.add(Dropout(0.5))\n",
    "    model.add(Dense(length_long_sentence, activation = \"relu\"))\n",
    "    model.add(Dropout(0.5))\n",
    "    model.add(Dense(1, activation = 'sigmoid'))\n",
    "    model.compile(optimizer='rmsprop', loss='binary_crossentropy', metrics=['accuracy'])\n",
    "    return model"
   ]
  },
  {
   "cell_type": "code",
   "execution_count": 23,
   "metadata": {},
   "outputs": [
    {
     "name": "stdout",
     "output_type": "stream",
     "text": [
      "Epoch 1/10\n",
      "179/179 [==============================] - ETA: 0s - loss: 0.8405 - accuracy: 0.5666\n",
      "Epoch 00001: val_loss improved from inf to 0.64315, saving model to model.h5\n",
      "179/179 [==============================] - 7s 39ms/step - loss: 0.8405 - accuracy: 0.5666 - val_loss: 0.6432 - val_accuracy: 0.6812\n",
      "Epoch 2/10\n",
      "179/179 [==============================] - ETA: 0s - loss: 0.5778 - accuracy: 0.7201\n",
      "Epoch 00002: val_loss improved from 0.64315 to 0.49003, saving model to model.h5\n",
      "179/179 [==============================] - 6s 36ms/step - loss: 0.5778 - accuracy: 0.7201 - val_loss: 0.4900 - val_accuracy: 0.7941\n",
      "Epoch 3/10\n",
      "179/179 [==============================] - ETA: 0s - loss: 0.5124 - accuracy: 0.7798\n",
      "Epoch 00003: val_loss improved from 0.49003 to 0.43511, saving model to model.h5\n",
      "179/179 [==============================] - 6s 36ms/step - loss: 0.5124 - accuracy: 0.7798 - val_loss: 0.4351 - val_accuracy: 0.8046\n",
      "Epoch 4/10\n",
      "178/179 [============================>.] - ETA: 0s - loss: 0.4583 - accuracy: 0.8134\n",
      "Epoch 00004: val_loss improved from 0.43511 to 0.41675, saving model to model.h5\n",
      "179/179 [==============================] - 6s 36ms/step - loss: 0.4581 - accuracy: 0.8136 - val_loss: 0.4167 - val_accuracy: 0.8136\n",
      "Epoch 5/10\n",
      "178/179 [============================>.] - ETA: 0s - loss: 0.4413 - accuracy: 0.8225\n",
      "Epoch 00005: val_loss did not improve from 0.41675\n",
      "179/179 [==============================] - 6s 35ms/step - loss: 0.4410 - accuracy: 0.8227 - val_loss: 0.4271 - val_accuracy: 0.7946\n",
      "Epoch 6/10\n",
      "178/179 [============================>.] - ETA: 0s - loss: 0.4104 - accuracy: 0.8353\n",
      "Epoch 00006: val_loss did not improve from 0.41675\n",
      "179/179 [==============================] - 6s 35ms/step - loss: 0.4102 - accuracy: 0.8353 - val_loss: 0.4219 - val_accuracy: 0.8151\n",
      "Epoch 7/10\n",
      "179/179 [==============================] - ETA: 0s - loss: 0.4017 - accuracy: 0.8415\n",
      "Epoch 00007: val_loss did not improve from 0.41675\n",
      "179/179 [==============================] - 6s 35ms/step - loss: 0.4017 - accuracy: 0.8415 - val_loss: 0.4205 - val_accuracy: 0.8130\n",
      "Epoch 8/10\n",
      "179/179 [==============================] - ETA: 0s - loss: 0.3788 - accuracy: 0.8544\n",
      "Epoch 00008: val_loss did not improve from 0.41675\n",
      "179/179 [==============================] - 6s 35ms/step - loss: 0.3788 - accuracy: 0.8544 - val_loss: 0.4346 - val_accuracy: 0.8030\n",
      "Epoch 9/10\n",
      "179/179 [==============================] - ETA: 0s - loss: 0.3519 - accuracy: 0.8667\n",
      "Epoch 00009: val_loss did not improve from 0.41675\n",
      "\n",
      "Epoch 00009: ReduceLROnPlateau reducing learning rate to 0.001.\n",
      "179/179 [==============================] - 6s 35ms/step - loss: 0.3519 - accuracy: 0.8667 - val_loss: 0.5712 - val_accuracy: 0.7967\n",
      "Epoch 10/10\n",
      "179/179 [==============================] - ETA: 0s - loss: 0.3219 - accuracy: 0.8760\n",
      "Epoch 00010: val_loss did not improve from 0.41675\n",
      "179/179 [==============================] - 6s 35ms/step - loss: 0.3219 - accuracy: 0.8760 - val_loss: 0.4699 - val_accuracy: 0.7936\n"
     ]
    }
   ],
   "source": [
    "model = BLSTM()\n",
    "checkpoint = ModelCheckpoint(\n",
    "    'model.h5', \n",
    "    monitor = 'val_loss', \n",
    "    verbose = 1, \n",
    "    save_best_only = True\n",
    ")\n",
    "reduce_lr = ReduceLROnPlateau(\n",
    "    monitor = 'val_loss', \n",
    "    factor = 0.2, \n",
    "    verbose = 1, \n",
    "    patience = 5,                        \n",
    "    min_lr = 0.001\n",
    ")\n",
    "history = model.fit(xTrain,yTrain,epochs=10,batch_size=32, validation_data=(xVal, yVal), verbose = 1, callbacks = [checkpoint, reduce_lr])"
   ]
  },
  {
   "cell_type": "code",
   "execution_count": 24,
   "metadata": {},
   "outputs": [
    {
     "name": "stdout",
     "output_type": "stream",
     "text": [
      "Model: \"sequential\"\n",
      "_________________________________________________________________\n",
      "Layer (type)                 Output Shape              Param #   \n",
      "=================================================================\n",
      "embedding (Embedding)        (None, 31, 100)           1683400   \n",
      "_________________________________________________________________\n",
      "bidirectional (Bidirectional (None, 31, 62)            32736     \n",
      "_________________________________________________________________\n",
      "global_max_pooling1d (Global (None, 62)                0         \n",
      "_________________________________________________________________\n",
      "batch_normalization (BatchNo (None, 62)                248       \n",
      "_________________________________________________________________\n",
      "dropout (Dropout)            (None, 62)                0         \n",
      "_________________________________________________________________\n",
      "dense (Dense)                (None, 31)                1953      \n",
      "_________________________________________________________________\n",
      "dropout_1 (Dropout)          (None, 31)                0         \n",
      "_________________________________________________________________\n",
      "dense_1 (Dense)              (None, 31)                992       \n",
      "_________________________________________________________________\n",
      "dropout_2 (Dropout)          (None, 31)                0         \n",
      "_________________________________________________________________\n",
      "dense_2 (Dense)              (None, 1)                 32        \n",
      "=================================================================\n",
      "Total params: 1,719,361\n",
      "Trainable params: 1,719,237\n",
      "Non-trainable params: 124\n",
      "_________________________________________________________________\n"
     ]
    }
   ],
   "source": [
    "model.summary()"
   ]
  },
  {
   "cell_type": "code",
   "execution_count": 25,
   "metadata": {},
   "outputs": [],
   "source": [
    "def plot(history, arr):\n",
    "    fig, ax = plt.subplots(1, 2, figsize=(20, 5))\n",
    "    for idx in range(2):\n",
    "        ax[idx].plot(history.history[arr[idx][0]])\n",
    "        ax[idx].plot(history.history[arr[idx][1]])\n",
    "        ax[idx].legend([arr[idx][0], arr[idx][1]],fontsize=18)\n",
    "        ax[idx].set_xlabel('A ',fontsize=16)\n",
    "        ax[idx].set_ylabel('B',fontsize=16)\n",
    "        ax[idx].set_title(arr[idx][0] + ' X ' + arr[idx][1],fontsize=16)"
   ]
  },
  {
   "cell_type": "code",
   "execution_count": 26,
   "metadata": {},
   "outputs": [
    {
     "data": {
      "image/png": "[encoded data removed]",
      "text/plain": [
       "<Figure size 1440x360 with 2 Axes>"
      ]
     },
     "metadata": {},
     "output_type": "display_data"
    }
   ],
   "source": [
    "plot(history, [['loss', 'val_loss'],['accuracy', 'val_accuracy']])"
   ]
  },
  {
   "cell_type": "code",
   "execution_count": 27,
   "metadata": {},
   "outputs": [
    {
     "name": "stdout",
     "output_type": "stream",
     "text": [
      "WARNING:tensorflow:From <ipython-input-27-c68f26431bee>:1: Sequential.predict_classes (from tensorflow.python.keras.engine.sequential) is deprecated and will be removed after 2021-01-01.\n",
      "Instructions for updating:\n",
      "Please use instead:* `np.argmax(model.predict(x), axis=-1)`,   if your model does multi-class classification   (e.g. if it uses a `softmax` last-layer activation).* `(model.predict(x) > 0.5).astype(\"int32\")`,   if your model does binary classification   (e.g. if it uses a `sigmoid` last-layer activation).\n"
     ]
    },
    {
     "data": {
      "image/png": "[encoded data removed]",
      "text/plain": [
       "<Figure size 432x288 with 1 Axes>"
      ]
     },
     "metadata": {},
     "output_type": "display_data"
    }
   ],
   "source": [
    "plt.figure(figsize=(10,7))\n",
    "g = sns.barplot(x= tweets_submission.target.value_counts().index, y= tweets_submission.target.value_counts().values, orient='v', palette= 'husl', hue= tweets_submission.target.value_counts().index, dodge=False)\n",
    "g.set_title(\"Tweets Test\", fontsize=22)\n",
    "g.set_xlabel(\"Tipo de noticia\", fontsize=16)\n",
    "g.set_ylabel(\"Cantidad de tweets\", fontsize=16)"
   ]
  },
  {
   "cell_type": "code",
   "execution_count": null,
   "metadata": {},
   "outputs": [],
   "source": [
    "tweets_submission.target = model.predict_classes(test_sentences)\n",
    "tweets_submission.to_csv(\"submission.csv\", index=False)"
   ]
  }
 ],
 "metadata": {
  "kernelspec": {
   "display_name": "Python 3",
   "language": "python",
   "name": "python3"
  },
  "language_info": {
   "codemirror_mode": {
    "name": "ipython",
    "version": 3
   },
   "file_extension": ".py",
   "mimetype": "text/x-python",
   "name": "python",
   "nbconvert_exporter": "python",
   "pygments_lexer": "ipython3",
   "version": "3.8.2"
  }
 },
 "nbformat": 4,
 "nbformat_minor": 4
}
